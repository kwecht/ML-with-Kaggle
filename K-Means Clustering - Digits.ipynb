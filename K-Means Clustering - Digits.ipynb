{
 "metadata": {
  "name": "",
  "signature": "sha256:196e25457df88c14ada2599ceb8a5ede246462dddb23a61c0b99e163897119ab"
 },
 "nbformat": 3,
 "nbformat_minor": 0,
 "worksheets": [
  {
   "cells": [
    {
     "cell_type": "heading",
     "level": 1,
     "metadata": {},
     "source": [
      "Introduction"
     ]
    },
    {
     "cell_type": "markdown",
     "metadata": {},
     "source": [
      "This is the fifth installment of Applying Machine Learning to Kaggle Datasets, a series of ipython notebooks demonstrating the methods described in the Stanford Machine Learning Course. In each noteobok, I apply one method taught in the course to an open kaggle competition. \n",
      "\n",
      "In this notebook, I demonstrate k-means clustering using the Digit Recognizer competition."
     ]
    },
    {
     "cell_type": "heading",
     "level": 1,
     "metadata": {},
     "source": [
      "Outline"
     ]
    },
    {
     "cell_type": "markdown",
     "metadata": {},
     "source": [
      "0. Functions to process the data\n",
      "1. Import and examine the data\n",
      "2. Cluster data into 10 categories (one for each digit)\n",
      "3. Evaluate model results\n",
      "4. Summary"
     ]
    },
    {
     "cell_type": "heading",
     "level": 3,
     "metadata": {},
     "source": [
      "Import Necessary Modules"
     ]
    },
    {
     "cell_type": "code",
     "collapsed": false,
     "input": [
      "import pandas as pd\n",
      "import numpy as np\n",
      "import sklearn.cluster as skc\n",
      "import matplotlib.pyplot as plt\n",
      "import matplotlib.cm as cm\n",
      "%matplotlib inline"
     ],
     "language": "python",
     "metadata": {},
     "outputs": [],
     "prompt_number": 17
    },
    {
     "cell_type": "heading",
     "level": 3,
     "metadata": {},
     "source": [
      "0. Functions to Process Data"
     ]
    },
    {
     "cell_type": "code",
     "collapsed": false,
     "input": [
      "def ij2index(ii,jj):\n",
      "    \"\"\"\n",
      "    Converts pixel indices ii (row) and jj (column)\n",
      "    to a single value in the grid below:\n",
      "    \n",
      "         jj=0 jj=1 jj=2 jj=3   jj=26 jj=27\n",
      "    ii=0  000  001  002  003 ... 026  027\n",
      "    ii=1  028  029  030  031 ... 054  055\n",
      "    ii=2  056  057  058  059 ... 082  083\n",
      "           |    |    |    |  ...  |    |\n",
      "    ii=26 728  729  730  731 ... 754  755\n",
      "    ii=27 756  757  758  759 ... 782  783\n",
      "    \"\"\"\n",
      "    \n",
      "    # Number of ii,jj\n",
      "    nI = 28\n",
      "    nJ = 28\n",
      "    return ii*nJ + jj\n",
      "    \n",
      "def index2ij(index):\n",
      "    \"\"\"\n",
      "    Converts 1D index to 2D pixel indices \n",
      "    ii (row) and jj (column) from the grid below:\n",
      "    \n",
      "         jj=0 jj=1 jj=2 jj=3   jj=26 jj=27\n",
      "    ii=0  000  001  002  003 ... 026  027\n",
      "    ii=1  028  029  030  031 ... 054  055\n",
      "    ii=2  056  057  058  059 ... 082  083\n",
      "           |    |    |    |  ...  |    |\n",
      "    ii=26 728  729  730  731 ... 754  755\n",
      "    ii=27 756  757  758  759 ... 782  783\n",
      "    \"\"\"\n",
      "    \n",
      "    # Number of ii,jj\n",
      "    nI = 28\n",
      "    nJ = 28\n",
      "    jj = index%nJ\n",
      "    ii = (index-jj)/nI\n",
      "    return (ii,jj)\n",
      "\n",
      "def convert"
     ],
     "language": "python",
     "metadata": {},
     "outputs": [],
     "prompt_number": 5
    },
    {
     "cell_type": "heading",
     "level": 3,
     "metadata": {},
     "source": [
      "1. Read Digit Data"
     ]
    },
    {
     "cell_type": "code",
     "collapsed": false,
     "input": [
      "data = pd.read_csv(\"./data/digits/train.csv\")\n",
      "data.head()"
     ],
     "language": "python",
     "metadata": {},
     "outputs": [
      {
       "html": [
        "<div style=\"max-height:1000px;max-width:1500px;overflow:auto;\">\n",
        "<table border=\"1\" class=\"dataframe\">\n",
        "  <thead>\n",
        "    <tr style=\"text-align: right;\">\n",
        "      <th></th>\n",
        "      <th>label</th>\n",
        "      <th>pixel0</th>\n",
        "      <th>pixel1</th>\n",
        "      <th>pixel2</th>\n",
        "      <th>pixel3</th>\n",
        "      <th>pixel4</th>\n",
        "      <th>pixel5</th>\n",
        "      <th>pixel6</th>\n",
        "      <th>pixel7</th>\n",
        "      <th>pixel8</th>\n",
        "      <th>...</th>\n",
        "      <th>pixel774</th>\n",
        "      <th>pixel775</th>\n",
        "      <th>pixel776</th>\n",
        "      <th>pixel777</th>\n",
        "      <th>pixel778</th>\n",
        "      <th>pixel779</th>\n",
        "      <th>pixel780</th>\n",
        "      <th>pixel781</th>\n",
        "      <th>pixel782</th>\n",
        "      <th>pixel783</th>\n",
        "    </tr>\n",
        "  </thead>\n",
        "  <tbody>\n",
        "    <tr>\n",
        "      <th>0</th>\n",
        "      <td> 1</td>\n",
        "      <td> 0</td>\n",
        "      <td> 0</td>\n",
        "      <td> 0</td>\n",
        "      <td> 0</td>\n",
        "      <td> 0</td>\n",
        "      <td> 0</td>\n",
        "      <td> 0</td>\n",
        "      <td> 0</td>\n",
        "      <td> 0</td>\n",
        "      <td>...</td>\n",
        "      <td> 0</td>\n",
        "      <td> 0</td>\n",
        "      <td> 0</td>\n",
        "      <td> 0</td>\n",
        "      <td> 0</td>\n",
        "      <td> 0</td>\n",
        "      <td> 0</td>\n",
        "      <td> 0</td>\n",
        "      <td> 0</td>\n",
        "      <td> 0</td>\n",
        "    </tr>\n",
        "    <tr>\n",
        "      <th>1</th>\n",
        "      <td> 0</td>\n",
        "      <td> 0</td>\n",
        "      <td> 0</td>\n",
        "      <td> 0</td>\n",
        "      <td> 0</td>\n",
        "      <td> 0</td>\n",
        "      <td> 0</td>\n",
        "      <td> 0</td>\n",
        "      <td> 0</td>\n",
        "      <td> 0</td>\n",
        "      <td>...</td>\n",
        "      <td> 0</td>\n",
        "      <td> 0</td>\n",
        "      <td> 0</td>\n",
        "      <td> 0</td>\n",
        "      <td> 0</td>\n",
        "      <td> 0</td>\n",
        "      <td> 0</td>\n",
        "      <td> 0</td>\n",
        "      <td> 0</td>\n",
        "      <td> 0</td>\n",
        "    </tr>\n",
        "    <tr>\n",
        "      <th>2</th>\n",
        "      <td> 1</td>\n",
        "      <td> 0</td>\n",
        "      <td> 0</td>\n",
        "      <td> 0</td>\n",
        "      <td> 0</td>\n",
        "      <td> 0</td>\n",
        "      <td> 0</td>\n",
        "      <td> 0</td>\n",
        "      <td> 0</td>\n",
        "      <td> 0</td>\n",
        "      <td>...</td>\n",
        "      <td> 0</td>\n",
        "      <td> 0</td>\n",
        "      <td> 0</td>\n",
        "      <td> 0</td>\n",
        "      <td> 0</td>\n",
        "      <td> 0</td>\n",
        "      <td> 0</td>\n",
        "      <td> 0</td>\n",
        "      <td> 0</td>\n",
        "      <td> 0</td>\n",
        "    </tr>\n",
        "    <tr>\n",
        "      <th>3</th>\n",
        "      <td> 4</td>\n",
        "      <td> 0</td>\n",
        "      <td> 0</td>\n",
        "      <td> 0</td>\n",
        "      <td> 0</td>\n",
        "      <td> 0</td>\n",
        "      <td> 0</td>\n",
        "      <td> 0</td>\n",
        "      <td> 0</td>\n",
        "      <td> 0</td>\n",
        "      <td>...</td>\n",
        "      <td> 0</td>\n",
        "      <td> 0</td>\n",
        "      <td> 0</td>\n",
        "      <td> 0</td>\n",
        "      <td> 0</td>\n",
        "      <td> 0</td>\n",
        "      <td> 0</td>\n",
        "      <td> 0</td>\n",
        "      <td> 0</td>\n",
        "      <td> 0</td>\n",
        "    </tr>\n",
        "    <tr>\n",
        "      <th>4</th>\n",
        "      <td> 0</td>\n",
        "      <td> 0</td>\n",
        "      <td> 0</td>\n",
        "      <td> 0</td>\n",
        "      <td> 0</td>\n",
        "      <td> 0</td>\n",
        "      <td> 0</td>\n",
        "      <td> 0</td>\n",
        "      <td> 0</td>\n",
        "      <td> 0</td>\n",
        "      <td>...</td>\n",
        "      <td> 0</td>\n",
        "      <td> 0</td>\n",
        "      <td> 0</td>\n",
        "      <td> 0</td>\n",
        "      <td> 0</td>\n",
        "      <td> 0</td>\n",
        "      <td> 0</td>\n",
        "      <td> 0</td>\n",
        "      <td> 0</td>\n",
        "      <td> 0</td>\n",
        "    </tr>\n",
        "  </tbody>\n",
        "</table>\n",
        "<p>5 rows \u00d7 785 columns</p>\n",
        "</div>"
       ],
       "metadata": {},
       "output_type": "pyout",
       "prompt_number": 10,
       "text": [
        "   label  pixel0  pixel1  pixel2  pixel3  pixel4  pixel5  pixel6  pixel7  \\\n",
        "0      1       0       0       0       0       0       0       0       0   \n",
        "1      0       0       0       0       0       0       0       0       0   \n",
        "2      1       0       0       0       0       0       0       0       0   \n",
        "3      4       0       0       0       0       0       0       0       0   \n",
        "4      0       0       0       0       0       0       0       0       0   \n",
        "\n",
        "   pixel8   ...    pixel774  pixel775  pixel776  pixel777  pixel778  pixel779  \\\n",
        "0       0   ...           0         0         0         0         0         0   \n",
        "1       0   ...           0         0         0         0         0         0   \n",
        "2       0   ...           0         0         0         0         0         0   \n",
        "3       0   ...           0         0         0         0         0         0   \n",
        "4       0   ...           0         0         0         0         0         0   \n",
        "\n",
        "   pixel780  pixel781  pixel782  pixel783  \n",
        "0         0         0         0         0  \n",
        "1         0         0         0         0  \n",
        "2         0         0         0         0  \n",
        "3         0         0         0         0  \n",
        "4         0         0         0         0  \n",
        "\n",
        "[5 rows x 785 columns]"
       ]
      }
     ],
     "prompt_number": 10
    },
    {
     "cell_type": "code",
     "collapsed": false,
     "input": [
      "# Split up digit images and labels\n",
      "targets = data['label']\n",
      "digits = data.drop('label',axis=1)"
     ],
     "language": "python",
     "metadata": {},
     "outputs": [],
     "prompt_number": 11
    },
    {
     "cell_type": "code",
     "collapsed": false,
     "input": [
      "# Plot one of the digits\n",
      "plt.imshow(digits.loc[1000].reshape(28,28),cmap=cm.Greys,interpolation='none')"
     ],
     "language": "python",
     "metadata": {},
     "outputs": [
      {
       "metadata": {},
       "output_type": "pyout",
       "prompt_number": 16,
       "text": [
        "<matplotlib.image.AxesImage at 0x11f70f990>"
       ]
      },
      {
       "metadata": {},
       "output_type": "display_data",
       "png": "[encoded data removed]",
       "text": [
        "<matplotlib.figure.Figure at 0x11ea5f510>"
       ]
      }
     ],
     "prompt_number": 16
    },
    {
     "cell_type": "code",
     "collapsed": false,
     "input": [
      "# Plot frequency of digits in the dataset\n",
      "targets.hist()"
     ],
     "language": "python",
     "metadata": {},
     "outputs": [
      {
       "metadata": {},
       "output_type": "pyout",
       "prompt_number": 60,
       "text": [
        "<matplotlib.axes._subplots.AxesSubplot at 0x10862db10>"
       ]
      },
      {
       "metadata": {},
       "output_type": "display_data",
       "png": "[encoded data removed]",
       "text": [
        "<matplotlib.figure.Figure at 0x109919a90>"
       ]
      }
     ],
     "prompt_number": 60
    },
    {
     "cell_type": "heading",
     "level": 3,
     "metadata": {},
     "source": [
      "2. Cluster data into 10 categories"
     ]
    },
    {
     "cell_type": "markdown",
     "metadata": {},
     "source": [
      "We use k-means to classify the available greyscale images into 10 categories.  I do not anticipate a clear relationship between the resulting clusters and the 10 digits (0-9) because our method is neither scale, translation, or rotaion invariant.\n",
      "\n",
      "Nevertheless, let's try and see how it goes!"
     ]
    },
    {
     "cell_type": "code",
     "collapsed": false,
     "input": [
      "model = skc.KMeans(n_clusters=10,n_init=1,random_state=1)"
     ],
     "language": "python",
     "metadata": {},
     "outputs": [],
     "prompt_number": 55
    },
    {
     "cell_type": "code",
     "collapsed": false,
     "input": [
      "model.fit(digits)"
     ],
     "language": "python",
     "metadata": {},
     "outputs": [
      {
       "metadata": {},
       "output_type": "pyout",
       "prompt_number": 56,
       "text": [
        "KMeans(copy_x=True, init='k-means++', max_iter=300, n_clusters=10, n_init=1,\n",
        "    n_jobs=1, precompute_distances=True, random_state=1, tol=0.0001,\n",
        "    verbose=0)"
       ]
      }
     ],
     "prompt_number": 56
    },
    {
     "cell_type": "code",
     "collapsed": false,
     "input": [
      "output = model.predict(digits)"
     ],
     "language": "python",
     "metadata": {},
     "outputs": [],
     "prompt_number": 68
    },
    {
     "cell_type": "heading",
     "level": 3,
     "metadata": {},
     "source": [
      "3. Evaluate Model Results"
     ]
    },
    {
     "cell_type": "code",
     "collapsed": false,
     "input": [
      "# Plot the center of each cluster returned from the k-means algorithm\n",
      "for ii in range(10):\n",
      "    plt.subplot(2,5,ii+1)\n",
      "    plt.imshow(model.cluster_centers_[ii,:].reshape(28,28),cmap=cm.Greys,interpolation='none')\n",
      "    plt.title('ii = {}'.format(ii))"
     ],
     "language": "python",
     "metadata": {},
     "outputs": [
      {
       "metadata": {},
       "output_type": "display_data",
       "png": "[encoded data removed]",
       "text": [
        "<matplotlib.figure.Figure at 0x1087d2510>"
       ]
      }
     ],
     "prompt_number": 69
    },
    {
     "cell_type": "markdown",
     "metadata": {},
     "source": [
      "This is better than I expected! Several of the centroids clearly correspond to recognizable digits. Some deficiences include no digit \"5\", two digits \"0\", and strong similarities between digits \"4\", \"7\", and \"9\"."
     ]
    },
    {
     "cell_type": "code",
     "collapsed": false,
     "input": [
      "# Plot number of predicted values in each cluster\n",
      "output = model.predict(digits)\n",
      "height,left = np.histogram(output)\n",
      "plt.bar(left[:-1],height)"
     ],
     "language": "python",
     "metadata": {},
     "outputs": [
      {
       "metadata": {},
       "output_type": "pyout",
       "prompt_number": 70,
       "text": [
        "<Container object of 10 artists>"
       ]
      },
      {
       "metadata": {},
       "output_type": "display_data",
       "png": "[encoded data removed]",
       "text": [
        "<matplotlib.figure.Figure at 0x109f51ad0>"
       ]
      }
     ],
     "prompt_number": 70
    },
    {
     "cell_type": "markdown",
     "metadata": {},
     "source": [
      "This histogram of model predictions reveals more shortcomings. Bins 5 and 7, corresponding to digit \"0\", contain relatively few numbers. Bin 1, on the other hand, seems to correspond to the digit \"1\", but the histogram above shows that many other digits have been placed into that bin. "
     ]
    },
    {
     "cell_type": "code",
     "collapsed": false,
     "input": [
      "# Visually associate the cluster centers with a digit from 0-9\n",
      "def real2centroid(number):\n",
      "    \"\"\"Return the model centroid index associated with the real digit value\"\"\"\n",
      "    realvalues = [7,1,0,6,2,5,8,4,9,3]\n",
      "    return realvalues[number]\n",
      "    \n",
      "def centroid2real(number):\n",
      "    \"\"\"Return the real number associated with a given centroid index.\"\"\"\n",
      "    centroids = [2,1,4,9,7,0,3,0,6,8]\n",
      "    return centroids[number]"
     ],
     "language": "python",
     "metadata": {},
     "outputs": [],
     "prompt_number": 83
    },
    {
     "cell_type": "code",
     "collapsed": false,
     "input": [
      "# Convert the model output to predicted digit labels\n",
      "output = model.predict(digits)\n",
      "output = map(centroid2real,output)"
     ],
     "language": "python",
     "metadata": {},
     "outputs": [],
     "prompt_number": 81
    },
    {
     "cell_type": "code",
     "collapsed": false,
     "input": [
      "# Calculate fraction correct\n",
      "print 1-(sum((output-targets)!=0))/float(len(output))"
     ],
     "language": "python",
     "metadata": {},
     "outputs": [
      {
       "output_type": "stream",
       "stream": "stdout",
       "text": [
        "0.595428571429\n"
       ]
      }
     ],
     "prompt_number": 82
    },
    {
     "cell_type": "heading",
     "level": 3,
     "metadata": {},
     "source": [
      "4. Summary"
     ]
    },
    {
     "cell_type": "markdown",
     "metadata": {},
     "source": [
      "A very simple K-means implementation placed handwritten digits into 10 bins without any labels. In many cases, these bins clearly corresponded to actual digits. We visualize the bins, assign each one a real numerical value, and find that the k-means algorithm correctly categorizes 60% of the digits. That's rather impressive for a straightforward implementation of an unsupervised learning algorithm!"
     ]
    }
   ],
   "metadata": {}
  }
 ]
}