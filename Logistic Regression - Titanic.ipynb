{
 "metadata": {
  "name": "",
  "signature": "sha256:5d6784043f62f374c5b29df4914e88a3ac6c9023b893f4fb6a1ff3c4c6329761"
 },
 "nbformat": 3,
 "nbformat_minor": 0,
 "worksheets": [
  {
   "cells": [
    {
     "cell_type": "heading",
     "level": 1,
     "metadata": {},
     "source": [
      "Introduction"
     ]
    },
    {
     "cell_type": "markdown",
     "metadata": {},
     "source": [
      "This is the second installment of Applying Machine Learning to Kaggle Datasets, a series of ipython notebooks demonstrating the methods described in the Stanford Machine Learning Course. In each noteobok, I apply one method taught in the course to an open kaggle competition. \n",
      "\n",
      "In this notebook, I demonstrate logistic regression using the Titanic competition."
     ]
    },
    {
     "cell_type": "heading",
     "level": 1,
     "metadata": {},
     "source": [
      "Outline"
     ]
    },
    {
     "cell_type": "markdown",
     "metadata": {},
     "source": [
      "1. Import and examine the data\n",
      "2. Construct a logistic model to predict mortality\n",
      "3. Optimize model parameters by solving Theta*X=y\n",
      "4. Evaluate model results\n",
      "5. Submit results to the Kaggle competition"
     ]
    },
    {
     "cell_type": "heading",
     "level": 3,
     "metadata": {},
     "source": [
      "Import Necessary Modules"
     ]
    },
    {
     "cell_type": "code",
     "collapsed": false,
     "input": [
      "%matplotlib inline\n",
      "import numpy as np\n",
      "import pandas as pd\n",
      "import matplotlib.pyplot as plt\n",
      "import seaborn as sb\n",
      "import statsmodels.api as sm\n",
      "import code.Linear_Regression_Funcs as LRF\n",
      "import code.Logistic_Regression_Funcs as LGF"
     ],
     "language": "python",
     "metadata": {},
     "outputs": [],
     "prompt_number": 1188
    },
    {
     "cell_type": "code",
     "collapsed": false,
     "input": [
      "reload(LGF)"
     ],
     "language": "python",
     "metadata": {},
     "outputs": [
      {
       "metadata": {},
       "output_type": "pyout",
       "prompt_number": 1189,
       "text": [
        "<module 'code.Logistic_Regression_Funcs' from 'code/Logistic_Regression_Funcs.pyc'>"
       ]
      }
     ],
     "prompt_number": 1189
    },
    {
     "cell_type": "heading",
     "level": 3,
     "metadata": {},
     "source": [
      "1. Read Titanic Data"
     ]
    },
    {
     "cell_type": "code",
     "collapsed": false,
     "input": [
      "train = pd.read_csv(\"./data/titanic/train.csv\", index_col=\"PassengerId\")\n",
      "train.head()"
     ],
     "language": "python",
     "metadata": {},
     "outputs": [
      {
       "html": [
        "<div style=\"max-height:1000px;max-width:1500px;overflow:auto;\">\n",
        "<table border=\"1\" class=\"dataframe\">\n",
        "  <thead>\n",
        "    <tr style=\"text-align: right;\">\n",
        "      <th></th>\n",
        "      <th>Survived</th>\n",
        "      <th>Pclass</th>\n",
        "      <th>Name</th>\n",
        "      <th>Sex</th>\n",
        "      <th>Age</th>\n",
        "      <th>SibSp</th>\n",
        "      <th>Parch</th>\n",
        "      <th>Ticket</th>\n",
        "      <th>Fare</th>\n",
        "      <th>Cabin</th>\n",
        "      <th>Embarked</th>\n",
        "    </tr>\n",
        "    <tr>\n",
        "      <th>PassengerId</th>\n",
        "      <th></th>\n",
        "      <th></th>\n",
        "      <th></th>\n",
        "      <th></th>\n",
        "      <th></th>\n",
        "      <th></th>\n",
        "      <th></th>\n",
        "      <th></th>\n",
        "      <th></th>\n",
        "      <th></th>\n",
        "      <th></th>\n",
        "    </tr>\n",
        "  </thead>\n",
        "  <tbody>\n",
        "    <tr>\n",
        "      <th>1</th>\n",
        "      <td> 0</td>\n",
        "      <td> 3</td>\n",
        "      <td>                           Braund, Mr. Owen Harris</td>\n",
        "      <td>   male</td>\n",
        "      <td> 22</td>\n",
        "      <td> 1</td>\n",
        "      <td> 0</td>\n",
        "      <td>        A/5 21171</td>\n",
        "      <td>  7.2500</td>\n",
        "      <td>  NaN</td>\n",
        "      <td> S</td>\n",
        "    </tr>\n",
        "    <tr>\n",
        "      <th>2</th>\n",
        "      <td> 1</td>\n",
        "      <td> 1</td>\n",
        "      <td> Cumings, Mrs. John Bradley (Florence Briggs Th...</td>\n",
        "      <td> female</td>\n",
        "      <td> 38</td>\n",
        "      <td> 1</td>\n",
        "      <td> 0</td>\n",
        "      <td>         PC 17599</td>\n",
        "      <td> 71.2833</td>\n",
        "      <td>  C85</td>\n",
        "      <td> C</td>\n",
        "    </tr>\n",
        "    <tr>\n",
        "      <th>3</th>\n",
        "      <td> 1</td>\n",
        "      <td> 3</td>\n",
        "      <td>                            Heikkinen, Miss. Laina</td>\n",
        "      <td> female</td>\n",
        "      <td> 26</td>\n",
        "      <td> 0</td>\n",
        "      <td> 0</td>\n",
        "      <td> STON/O2. 3101282</td>\n",
        "      <td>  7.9250</td>\n",
        "      <td>  NaN</td>\n",
        "      <td> S</td>\n",
        "    </tr>\n",
        "    <tr>\n",
        "      <th>4</th>\n",
        "      <td> 1</td>\n",
        "      <td> 1</td>\n",
        "      <td>      Futrelle, Mrs. Jacques Heath (Lily May Peel)</td>\n",
        "      <td> female</td>\n",
        "      <td> 35</td>\n",
        "      <td> 1</td>\n",
        "      <td> 0</td>\n",
        "      <td>           113803</td>\n",
        "      <td> 53.1000</td>\n",
        "      <td> C123</td>\n",
        "      <td> S</td>\n",
        "    </tr>\n",
        "    <tr>\n",
        "      <th>5</th>\n",
        "      <td> 0</td>\n",
        "      <td> 3</td>\n",
        "      <td>                          Allen, Mr. William Henry</td>\n",
        "      <td>   male</td>\n",
        "      <td> 35</td>\n",
        "      <td> 0</td>\n",
        "      <td> 0</td>\n",
        "      <td>           373450</td>\n",
        "      <td>  8.0500</td>\n",
        "      <td>  NaN</td>\n",
        "      <td> S</td>\n",
        "    </tr>\n",
        "  </tbody>\n",
        "</table>\n",
        "</div>"
       ],
       "metadata": {},
       "output_type": "pyout",
       "prompt_number": 1190,
       "text": [
        "             Survived  Pclass  \\\n",
        "PassengerId                     \n",
        "1                   0       3   \n",
        "2                   1       1   \n",
        "3                   1       3   \n",
        "4                   1       1   \n",
        "5                   0       3   \n",
        "\n",
        "                                                          Name     Sex  Age  \\\n",
        "PassengerId                                                                   \n",
        "1                                      Braund, Mr. Owen Harris    male   22   \n",
        "2            Cumings, Mrs. John Bradley (Florence Briggs Th...  female   38   \n",
        "3                                       Heikkinen, Miss. Laina  female   26   \n",
        "4                 Futrelle, Mrs. Jacques Heath (Lily May Peel)  female   35   \n",
        "5                                     Allen, Mr. William Henry    male   35   \n",
        "\n",
        "             SibSp  Parch            Ticket     Fare Cabin Embarked  \n",
        "PassengerId                                                          \n",
        "1                1      0         A/5 21171   7.2500   NaN        S  \n",
        "2                1      0          PC 17599  71.2833   C85        C  \n",
        "3                0      0  STON/O2. 3101282   7.9250   NaN        S  \n",
        "4                1      0            113803  53.1000  C123        S  \n",
        "5                0      0            373450   8.0500   NaN        S  "
       ]
      }
     ],
     "prompt_number": 1190
    },
    {
     "cell_type": "code",
     "collapsed": false,
     "input": [
      "# Fill embarcation location nan with a string\n",
      "#train.Embarked = train.Embarked.fillna('nan')\n",
      "\n",
      "# Create name category from titles in the name column\n",
      "#train = LGF.nametitles(train)"
     ],
     "language": "python",
     "metadata": {},
     "outputs": [],
     "prompt_number": 1191
    },
    {
     "cell_type": "heading",
     "level": 3,
     "metadata": {},
     "source": [
      "Some Exploratory Analysis using Pandas"
     ]
    },
    {
     "cell_type": "code",
     "collapsed": false,
     "input": [
      "#temp = pd.crosstab([train.Pclass, train.Sex],train.Survived.astype(bool))\n",
      "#temp"
     ],
     "language": "python",
     "metadata": {},
     "outputs": [],
     "prompt_number": 1192
    },
    {
     "cell_type": "code",
     "collapsed": false,
     "input": [
      "#sb.set(style=\"white\")\n",
      "#sb.factorplot('Pclass','Survived','Sex',data=train,palette=\"muted\")\n",
      "#sb.factorplot('Embarked','Survived','Pclass',data=train,palette=\"muted\")\n",
      "#sb.factorplot('Embarked','Survived','Sex',data=train,palette=\"muted\")\n",
      "#fg = sb.FacetGrid(train,hue=\"Pclass\",aspect=3,palette=\"muted\")\n",
      "#fg.map(sb.kdeplot,\"Age\",bw=4,shade=True,legend=True)\n",
      "#fg.set(xlim=(0,80))"
     ],
     "language": "python",
     "metadata": {},
     "outputs": [],
     "prompt_number": 1193
    },
    {
     "cell_type": "code",
     "collapsed": false,
     "input": [],
     "language": "python",
     "metadata": {},
     "outputs": [],
     "prompt_number": 1193
    },
    {
     "cell_type": "code",
     "collapsed": false,
     "input": [
      "## Transform categorical variables into numeric indicators (For examination only)\n",
      "#temp = LGF.cat2indicator(train, ['Embarked','Pclass','Sex'])  # Embarcation, Class, Sex\n",
      "#\n",
      "## Examine data grouped by survival\n",
      "#temp.groupby(temp.Survived).describe()"
     ],
     "language": "python",
     "metadata": {},
     "outputs": [],
     "prompt_number": 1194
    },
    {
     "cell_type": "heading",
     "level": 3,
     "metadata": {},
     "source": [
      "2. Construct a logistic regression model to predict survival"
     ]
    },
    {
     "cell_type": "heading",
     "level": 6,
     "metadata": {},
     "source": [
      "A list of variables to include in the model"
     ]
    },
    {
     "cell_type": "markdown",
     "metadata": {},
     "source": [
      "1. Categorical variables (PClass, Sex, Embarcation location, Title)\n",
      "2. Continuous variables (Age, Fare, # Parents/Children, # Siblings/Spouses)\n",
      "3. Interaction Terms\n",
      "    - Pclass * Sex\n",
      "    - Embarcation * Sex"
     ]
    },
    {
     "cell_type": "code",
     "collapsed": false,
     "input": [
      "y = train['Survived']"
     ],
     "language": "python",
     "metadata": {},
     "outputs": [],
     "prompt_number": 1195
    },
    {
     "cell_type": "code",
     "collapsed": false,
     "input": [
      "# X is an [m x n] matrix.\n",
      "#    m = number of observations\n",
      "#    n = number of predictors\n",
      "X = LGF.make_matrix(train)"
     ],
     "language": "python",
     "metadata": {},
     "outputs": [],
     "prompt_number": 1196
    },
    {
     "cell_type": "heading",
     "level": 3,
     "metadata": {},
     "source": [
      "3. Optimize Model Parameters via Logistic regression"
     ]
    },
    {
     "cell_type": "code",
     "collapsed": false,
     "input": [
      "results = sm.Logit(y,X).fit(maxiter=1000,method='bfgs')"
     ],
     "language": "python",
     "metadata": {},
     "outputs": [
      {
       "output_type": "stream",
       "stream": "stdout",
       "text": [
        "Optimization terminated successfully.\n",
        "         Current function value: 0.411809\n",
        "         Iterations: 108\n",
        "         Function evaluations: 109\n",
        "         Gradient evaluations: 109\n"
       ]
      }
     ],
     "prompt_number": 1214
    },
    {
     "cell_type": "heading",
     "level": 3,
     "metadata": {},
     "source": [
      "4. Evaluate Model Results"
     ]
    },
    {
     "cell_type": "code",
     "collapsed": false,
     "input": [
      "results.summary()"
     ],
     "language": "python",
     "metadata": {},
     "outputs": [
      {
       "html": [
        "<table class=\"simpletable\">\n",
        "<caption>Logit Regression Results</caption>\n",
        "<tr>\n",
        "  <th>Dep. Variable:</th>     <td>Survived</td>     <th>  No. Observations:  </th>  <td>   891</td>  \n",
        "</tr>\n",
        "<tr>\n",
        "  <th>Model:</th>               <td>Logit</td>      <th>  Df Residuals:      </th>  <td>   879</td>  \n",
        "</tr>\n",
        "<tr>\n",
        "  <th>Method:</th>               <td>MLE</td>       <th>  Df Model:          </th>  <td>    11</td>  \n",
        "</tr>\n",
        "<tr>\n",
        "  <th>Date:</th>          <td>Thu, 04 Dec 2014</td> <th>  Pseudo R-squ.:     </th>  <td>0.3816</td>  \n",
        "</tr>\n",
        "<tr>\n",
        "  <th>Time:</th>              <td>13:37:23</td>     <th>  Log-Likelihood:    </th> <td> -366.92</td> \n",
        "</tr>\n",
        "<tr>\n",
        "  <th>converged:</th>           <td>True</td>       <th>  LL-Null:           </th> <td> -593.33</td> \n",
        "</tr>\n",
        "<tr>\n",
        "  <th> </th>                      <td> </td>        <th>  LLR p-value:       </th> <td>3.632e-90</td>\n",
        "</tr>\n",
        "</table>\n",
        "<table class=\"simpletable\">\n",
        "<tr>\n",
        "            <td></td>               <th>coef</th>     <th>std err</th>      <th>z</th>      <th>P>|z|</th> <th>[95.0% Conf. Int.]</th> \n",
        "</tr>\n",
        "<tr>\n",
        "  <th>const</th>                 <td>    4.1085</td> <td>    0.683</td> <td>    6.019</td> <td> 0.000</td> <td>    2.771     5.446</td>\n",
        "</tr>\n",
        "<tr>\n",
        "  <th>Embarked_Q</th>            <td>    0.3835</td> <td>    0.566</td> <td>    0.678</td> <td> 0.498</td> <td>   -0.725     1.493</td>\n",
        "</tr>\n",
        "<tr>\n",
        "  <th>Embarked_S</th>            <td>   -1.1151</td> <td>    0.452</td> <td>   -2.469</td> <td> 0.014</td> <td>   -2.000    -0.230</td>\n",
        "</tr>\n",
        "<tr>\n",
        "  <th>Embarked_nan</th>          <td>    2.9745</td> <td>   24.439</td> <td>    0.122</td> <td> 0.903</td> <td>  -44.924    50.873</td>\n",
        "</tr>\n",
        "<tr>\n",
        "  <th>Sex_male</th>              <td>   -4.3837</td> <td>    0.730</td> <td>   -6.003</td> <td> 0.000</td> <td>   -5.815    -2.952</td>\n",
        "</tr>\n",
        "<tr>\n",
        "  <th>Pclass_2</th>              <td>   -0.6279</td> <td>    0.733</td> <td>   -0.856</td> <td> 0.392</td> <td>   -2.065     0.809</td>\n",
        "</tr>\n",
        "<tr>\n",
        "  <th>Pclass_3</th>              <td>   -3.5018</td> <td>    0.621</td> <td>   -5.635</td> <td> 0.000</td> <td>   -4.720    -2.284</td>\n",
        "</tr>\n",
        "<tr>\n",
        "  <th>Title_Master</th>          <td>    2.4168</td> <td>    0.365</td> <td>    6.624</td> <td> 0.000</td> <td>    1.702     3.132</td>\n",
        "</tr>\n",
        "<tr>\n",
        "  <th>Pclass_2_*_Sex_male</th>   <td>   -0.6755</td> <td>    0.815</td> <td>   -0.829</td> <td> 0.407</td> <td>   -2.272     0.921</td>\n",
        "</tr>\n",
        "<tr>\n",
        "  <th>Pclass_3_*_Sex_male</th>   <td>    2.0651</td> <td>    0.678</td> <td>    3.048</td> <td> 0.002</td> <td>    0.737     3.393</td>\n",
        "</tr>\n",
        "<tr>\n",
        "  <th>Embarked_Q_*_Sex_male</th> <td>   -1.7974</td> <td>    0.899</td> <td>   -1.998</td> <td> 0.046</td> <td>   -3.560    -0.034</td>\n",
        "</tr>\n",
        "<tr>\n",
        "  <th>Embarked_S_*_Sex_male</th> <td>    0.6288</td> <td>    0.532</td> <td>    1.181</td> <td> 0.238</td> <td>   -0.415     1.672</td>\n",
        "</tr>\n",
        "</table>"
       ],
       "metadata": {},
       "output_type": "pyout",
       "prompt_number": 1198,
       "text": [
        "<class 'statsmodels.iolib.summary.Summary'>\n",
        "\"\"\"\n",
        "                           Logit Regression Results                           \n",
        "==============================================================================\n",
        "Dep. Variable:               Survived   No. Observations:                  891\n",
        "Model:                          Logit   Df Residuals:                      879\n",
        "Method:                           MLE   Df Model:                           11\n",
        "Date:                Thu, 04 Dec 2014   Pseudo R-squ.:                  0.3816\n",
        "Time:                        13:37:23   Log-Likelihood:                -366.92\n",
        "converged:                       True   LL-Null:                       -593.33\n",
        "                                        LLR p-value:                 3.632e-90\n",
        "=========================================================================================\n",
        "                            coef    std err          z      P>|z|      [95.0% Conf. Int.]\n",
        "-----------------------------------------------------------------------------------------\n",
        "const                     4.1085      0.683      6.019      0.000         2.771     5.446\n",
        "Embarked_Q                0.3835      0.566      0.678      0.498        -0.725     1.493\n",
        "Embarked_S               -1.1151      0.452     -2.469      0.014        -2.000    -0.230\n",
        "Embarked_nan              2.9745     24.439      0.122      0.903       -44.924    50.873\n",
        "Sex_male                 -4.3837      0.730     -6.003      0.000        -5.815    -2.952\n",
        "Pclass_2                 -0.6279      0.733     -0.856      0.392        -2.065     0.809\n",
        "Pclass_3                 -3.5018      0.621     -5.635      0.000        -4.720    -2.284\n",
        "Title_Master              2.4168      0.365      6.624      0.000         1.702     3.132\n",
        "Pclass_2_*_Sex_male      -0.6755      0.815     -0.829      0.407        -2.272     0.921\n",
        "Pclass_3_*_Sex_male       2.0651      0.678      3.048      0.002         0.737     3.393\n",
        "Embarked_Q_*_Sex_male    -1.7974      0.899     -1.998      0.046        -3.560    -0.034\n",
        "Embarked_S_*_Sex_male     0.6288      0.532      1.181      0.238        -0.415     1.672\n",
        "=========================================================================================\n",
        "\"\"\""
       ]
      }
     ],
     "prompt_number": 1198
    },
    {
     "cell_type": "code",
     "collapsed": false,
     "input": [
      "ypredict = results.predict(X)\n",
      "ypredict = np.round(ypredict)\n",
      "print \"score on training data = \",LGF.score(y,ypredict)"
     ],
     "language": "python",
     "metadata": {},
     "outputs": [
      {
       "output_type": "stream",
       "stream": "stdout",
       "text": [
        "score on training data =  0.822671156004\n"
       ]
      }
     ],
     "prompt_number": 1212
    },
    {
     "cell_type": "heading",
     "level": 3,
     "metadata": {},
     "source": [
      "5. Submit the results to the Kaggle competition"
     ]
    },
    {
     "cell_type": "code",
     "collapsed": false,
     "input": [
      "# Read the test data\n",
      "test = pd.read_csv(\"./data/titanic/test.csv\",index_col=\"PassengerId\")"
     ],
     "language": "python",
     "metadata": {},
     "outputs": [],
     "prompt_number": 1200
    },
    {
     "cell_type": "code",
     "collapsed": false,
     "input": [
      "# Construct test model matrix\n",
      "Xtest = LGF.make_matrix(test,matchcols=X.columns[1:])"
     ],
     "language": "python",
     "metadata": {},
     "outputs": [],
     "prompt_number": 1201
    },
    {
     "cell_type": "code",
     "collapsed": false,
     "input": [
      "# Calculate predictions by applying model parameters to test model matrix\n",
      "Ypredict = pd.DataFrame(results.predict(Xtest),index=Xtest.index)\n",
      "Ypredict = np.round(Ypredict)\n",
      "Ypredict.columns = ['Survived']\n",
      "Ypredict = Ypredict.astype(int)\n",
      "Ypredict.to_csv('./predictions/Logistic_Regression_Prediction.csv',sep=',')"
     ],
     "language": "python",
     "metadata": {},
     "outputs": [],
     "prompt_number": 1202
    },
    {
     "cell_type": "markdown",
     "metadata": {},
     "source": [
      "This submission scored a 0.77512, placing 1332 out of 2075 submissions. This is the same score as the \"My First Random Forest\" benchmark."
     ]
    }
   ],
   "metadata": {}
  }
 ]
}