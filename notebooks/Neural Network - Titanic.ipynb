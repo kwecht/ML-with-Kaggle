{
 "metadata": {
  "name": "",
  "signature": "sha256:a77fe44e70ba592ac6485be095feb4b21bff29ce69f7452b9e2e4989f347b50c"
 },
 "nbformat": 3,
 "nbformat_minor": 0,
 "worksheets": [
  {
   "cells": [
    {
     "cell_type": "heading",
     "level": 1,
     "metadata": {},
     "source": [
      "Introduction"
     ]
    },
    {
     "cell_type": "markdown",
     "metadata": {},
     "source": [
      "This is the third installment of Applying Machine Learning to Kaggle Datasets, a series of ipython notebooks demonstrating the methods described in the Stanford Machine Learning Course. In each noteobok, I apply one method taught in the course to an open kaggle competition. \n",
      "\n",
      "In this notebook, I demonstrate the use of an artificial neural network to in the Titanic competition."
     ]
    },
    {
     "cell_type": "heading",
     "level": 1,
     "metadata": {},
     "source": [
      "Outline"
     ]
    },
    {
     "cell_type": "markdown",
     "metadata": {},
     "source": [
      "1. Import and examine the data\n",
      "2. Create input vectors for the neural network\n",
      "3. Set up the network using neurolab library in python\n",
      "4. Evaluate model results\n",
      "5. Submit results to the Kaggle competition"
     ]
    },
    {
     "cell_type": "heading",
     "level": 3,
     "metadata": {},
     "source": [
      "Import Necessary Modules"
     ]
    },
    {
     "cell_type": "code",
     "collapsed": false,
     "input": [
      "%matplotlib inline\n",
      "import numpy as np\n",
      "import pandas as pd\n",
      "import matplotlib.pyplot as plt\n",
      "import seaborn as sb\n",
      "import code.Neural_Net_Funcs as NNF\n",
      "import neurolab as nl"
     ],
     "language": "python",
     "metadata": {},
     "outputs": [],
     "prompt_number": 122
    },
    {
     "cell_type": "code",
     "collapsed": false,
     "input": [
      "reload(NNF)"
     ],
     "language": "python",
     "metadata": {},
     "outputs": [
      {
       "metadata": {},
       "output_type": "pyout",
       "prompt_number": 123,
       "text": [
        "<module 'code.Neural_Net_Funcs' from 'code/Neural_Net_Funcs.pyc'>"
       ]
      }
     ],
     "prompt_number": 123
    },
    {
     "cell_type": "heading",
     "level": 3,
     "metadata": {},
     "source": [
      "1. Read Titanic Data"
     ]
    },
    {
     "cell_type": "code",
     "collapsed": false,
     "input": [
      "train = pd.read_csv(\"./data/titanic/train.csv\", index_col=\"PassengerId\")\n",
      "train.head()"
     ],
     "language": "python",
     "metadata": {},
     "outputs": [
      {
       "html": [
        "<div style=\"max-height:1000px;max-width:1500px;overflow:auto;\">\n",
        "<table border=\"1\" class=\"dataframe\">\n",
        "  <thead>\n",
        "    <tr style=\"text-align: right;\">\n",
        "      <th></th>\n",
        "      <th>Survived</th>\n",
        "      <th>Pclass</th>\n",
        "      <th>Name</th>\n",
        "      <th>Sex</th>\n",
        "      <th>Age</th>\n",
        "      <th>SibSp</th>\n",
        "      <th>Parch</th>\n",
        "      <th>Ticket</th>\n",
        "      <th>Fare</th>\n",
        "      <th>Cabin</th>\n",
        "      <th>Embarked</th>\n",
        "    </tr>\n",
        "    <tr>\n",
        "      <th>PassengerId</th>\n",
        "      <th></th>\n",
        "      <th></th>\n",
        "      <th></th>\n",
        "      <th></th>\n",
        "      <th></th>\n",
        "      <th></th>\n",
        "      <th></th>\n",
        "      <th></th>\n",
        "      <th></th>\n",
        "      <th></th>\n",
        "      <th></th>\n",
        "    </tr>\n",
        "  </thead>\n",
        "  <tbody>\n",
        "    <tr>\n",
        "      <th>1</th>\n",
        "      <td> 0</td>\n",
        "      <td> 3</td>\n",
        "      <td>                           Braund, Mr. Owen Harris</td>\n",
        "      <td>   male</td>\n",
        "      <td> 22</td>\n",
        "      <td> 1</td>\n",
        "      <td> 0</td>\n",
        "      <td>        A/5 21171</td>\n",
        "      <td>  7.2500</td>\n",
        "      <td>  NaN</td>\n",
        "      <td> S</td>\n",
        "    </tr>\n",
        "    <tr>\n",
        "      <th>2</th>\n",
        "      <td> 1</td>\n",
        "      <td> 1</td>\n",
        "      <td> Cumings, Mrs. John Bradley (Florence Briggs Th...</td>\n",
        "      <td> female</td>\n",
        "      <td> 38</td>\n",
        "      <td> 1</td>\n",
        "      <td> 0</td>\n",
        "      <td>         PC 17599</td>\n",
        "      <td> 71.2833</td>\n",
        "      <td>  C85</td>\n",
        "      <td> C</td>\n",
        "    </tr>\n",
        "    <tr>\n",
        "      <th>3</th>\n",
        "      <td> 1</td>\n",
        "      <td> 3</td>\n",
        "      <td>                            Heikkinen, Miss. Laina</td>\n",
        "      <td> female</td>\n",
        "      <td> 26</td>\n",
        "      <td> 0</td>\n",
        "      <td> 0</td>\n",
        "      <td> STON/O2. 3101282</td>\n",
        "      <td>  7.9250</td>\n",
        "      <td>  NaN</td>\n",
        "      <td> S</td>\n",
        "    </tr>\n",
        "    <tr>\n",
        "      <th>4</th>\n",
        "      <td> 1</td>\n",
        "      <td> 1</td>\n",
        "      <td>      Futrelle, Mrs. Jacques Heath (Lily May Peel)</td>\n",
        "      <td> female</td>\n",
        "      <td> 35</td>\n",
        "      <td> 1</td>\n",
        "      <td> 0</td>\n",
        "      <td>           113803</td>\n",
        "      <td> 53.1000</td>\n",
        "      <td> C123</td>\n",
        "      <td> S</td>\n",
        "    </tr>\n",
        "    <tr>\n",
        "      <th>5</th>\n",
        "      <td> 0</td>\n",
        "      <td> 3</td>\n",
        "      <td>                          Allen, Mr. William Henry</td>\n",
        "      <td>   male</td>\n",
        "      <td> 35</td>\n",
        "      <td> 0</td>\n",
        "      <td> 0</td>\n",
        "      <td>           373450</td>\n",
        "      <td>  8.0500</td>\n",
        "      <td>  NaN</td>\n",
        "      <td> S</td>\n",
        "    </tr>\n",
        "  </tbody>\n",
        "</table>\n",
        "</div>"
       ],
       "metadata": {},
       "output_type": "pyout",
       "prompt_number": 124,
       "text": [
        "             Survived  Pclass  \\\n",
        "PassengerId                     \n",
        "1                   0       3   \n",
        "2                   1       1   \n",
        "3                   1       3   \n",
        "4                   1       1   \n",
        "5                   0       3   \n",
        "\n",
        "                                                          Name     Sex  Age  \\\n",
        "PassengerId                                                                   \n",
        "1                                      Braund, Mr. Owen Harris    male   22   \n",
        "2            Cumings, Mrs. John Bradley (Florence Briggs Th...  female   38   \n",
        "3                                       Heikkinen, Miss. Laina  female   26   \n",
        "4                 Futrelle, Mrs. Jacques Heath (Lily May Peel)  female   35   \n",
        "5                                     Allen, Mr. William Henry    male   35   \n",
        "\n",
        "             SibSp  Parch            Ticket     Fare Cabin Embarked  \n",
        "PassengerId                                                          \n",
        "1                1      0         A/5 21171   7.2500   NaN        S  \n",
        "2                1      0          PC 17599  71.2833   C85        C  \n",
        "3                0      0  STON/O2. 3101282   7.9250   NaN        S  \n",
        "4                1      0            113803  53.1000  C123        S  \n",
        "5                0      0            373450   8.0500   NaN        S  "
       ]
      }
     ],
     "prompt_number": 124
    },
    {
     "cell_type": "code",
     "collapsed": false,
     "input": [
      "#temp = pd.crosstab([train.Pclass, train.Sex],train.Survived.astype(bool))\n",
      "#temp"
     ],
     "language": "python",
     "metadata": {},
     "outputs": [],
     "prompt_number": 125
    },
    {
     "cell_type": "code",
     "collapsed": false,
     "input": [
      "#sb.set(style=\"white\")\n",
      "#sb.factorplot('Pclass','Survived','Sex',data=train,palette=\"muted\")\n",
      "#sb.factorplot('Embarked','Survived','Pclass',data=train,palette=\"muted\")\n",
      "#sb.factorplot('Embarked','Survived','Sex',data=train,palette=\"muted\")\n",
      "#fg = sb.FacetGrid(train,hue=\"Pclass\",aspect=3,palette=\"muted\")\n",
      "#fg.map(sb.kdeplot,\"Age\",bw=4,shade=True,legend=True)\n",
      "#fg.set(xlim=(0,80))"
     ],
     "language": "python",
     "metadata": {},
     "outputs": [],
     "prompt_number": 126
    },
    {
     "cell_type": "heading",
     "level": 3,
     "metadata": {},
     "source": [
      "2. Create input and output vectors for the neural network"
     ]
    },
    {
     "cell_type": "code",
     "collapsed": false,
     "input": [
      "reload(NNF)\n",
      "datain_age,dataout_age,min_max_list_age,pid = NNF.make_input_output(train)\n",
      "datain,dataout,min_max_list,pid = NNF.make_input_output(train,Age=False)"
     ],
     "language": "python",
     "metadata": {},
     "outputs": [],
     "prompt_number": 171
    },
    {
     "cell_type": "code",
     "collapsed": false,
     "input": [
      "print len(datain_age), len(datain)"
     ],
     "language": "python",
     "metadata": {},
     "outputs": [
      {
       "output_type": "stream",
       "stream": "stdout",
       "text": [
        "714 177\n"
       ]
      }
     ],
     "prompt_number": 172
    },
    {
     "cell_type": "code",
     "collapsed": false,
     "input": [],
     "language": "python",
     "metadata": {},
     "outputs": [],
     "prompt_number": 172
    },
    {
     "cell_type": "code",
     "collapsed": false,
     "input": [],
     "language": "python",
     "metadata": {},
     "outputs": [],
     "prompt_number": 172
    },
    {
     "cell_type": "heading",
     "level": 3,
     "metadata": {},
     "source": [
      "3. Set up neural network using neurolab library in python"
     ]
    },
    {
     "cell_type": "code",
     "collapsed": false,
     "input": [
      "# Get arguments to neurolab net, feed-forward network\n",
      "\n",
      "# Create the net\n",
      "# By default, all activation functions are the tangent function\n",
      "# and all layers have a bias node.\n",
      "#net.trainf = nl.train.train_gdm"
     ],
     "language": "python",
     "metadata": {},
     "outputs": [],
     "prompt_number": 173
    },
    {
     "cell_type": "code",
     "collapsed": false,
     "input": [
      "# Build and train the network on the training data.\n",
      "m = datain.shape[0]    # number of observations\n",
      "ci = datain.shape[1]    # number of input nodes\n",
      "layers = [ci,1]   # One hidden layer with ci nodes\n",
      "net = nl.net.newff(min_max_list,layers)\n",
      "err = net.train(datain, dataout, show=2,goal=0.01,epochs=20)\n",
      "net.save('myfirst_net_noage.sav')"
     ],
     "language": "python",
     "metadata": {},
     "outputs": [
      {
       "output_type": "stream",
       "stream": "stdout",
       "text": [
        "Epoch: 2; Error: 61.0199410394;\n",
        "Epoch: 4; Error: 60.3566937146;"
       ]
      },
      {
       "output_type": "stream",
       "stream": "stdout",
       "text": [
        "\n",
        "Epoch: 6; Error: 57.4157801794;"
       ]
      },
      {
       "output_type": "stream",
       "stream": "stdout",
       "text": [
        "\n",
        "Epoch: 8; Error: 53.8256491684;"
       ]
      },
      {
       "output_type": "stream",
       "stream": "stdout",
       "text": [
        "\n",
        "Epoch: 10; Error: 46.4204596104;"
       ]
      },
      {
       "output_type": "stream",
       "stream": "stdout",
       "text": [
        "\n",
        "Epoch: 12; Error: 44.4684620818;"
       ]
      },
      {
       "output_type": "stream",
       "stream": "stdout",
       "text": [
        "\n",
        "Epoch: 14; Error: 42.1227134574;"
       ]
      },
      {
       "output_type": "stream",
       "stream": "stdout",
       "text": [
        "\n",
        "Epoch: 16; Error: 41.2205662617;"
       ]
      },
      {
       "output_type": "stream",
       "stream": "stdout",
       "text": [
        "\n",
        "Epoch: 18; Error: 40.3514747192;"
       ]
      },
      {
       "output_type": "stream",
       "stream": "stdout",
       "text": [
        "\n",
        "Epoch: 20; Error: 40.0138357294;"
       ]
      },
      {
       "output_type": "stream",
       "stream": "stdout",
       "text": [
        "\n",
        "The maximum number of train epochs is reached\n"
       ]
      }
     ],
     "prompt_number": 178
    },
    {
     "cell_type": "code",
     "collapsed": false,
     "input": [
      "# Train the network on the training data.\n",
      "m_age = datain_age.shape[0]    # number of observations\n",
      "ci_age = datain_age.shape[1]    # number of input nodes\n",
      "layers_age = [ci_age,1]   # One hidden layer with ci nodes\n",
      "net_age = nl.net.newff(min_max_list_age,layers_age)\n",
      "err_age = net_age.train(datain_age, dataout_age, show=2,goal=0.01,epochs=20)\n",
      "net_age.save('myfirst_net_age.sav')"
     ],
     "language": "python",
     "metadata": {},
     "outputs": [
      {
       "output_type": "stream",
       "stream": "stdout",
       "text": [
        "Epoch: 2; Error: 217.539895838;\n",
        "Epoch: 4; Error: 210.2968521;"
       ]
      },
      {
       "output_type": "stream",
       "stream": "stdout",
       "text": [
        "\n",
        "Epoch: 6; Error: 205.309284427;"
       ]
      },
      {
       "output_type": "stream",
       "stream": "stdout",
       "text": [
        "\n",
        "Epoch: 8; Error: 199.91987307;"
       ]
      },
      {
       "output_type": "stream",
       "stream": "stdout",
       "text": [
        "\n",
        "Epoch: 10; Error: 191.917091424;"
       ]
      },
      {
       "output_type": "stream",
       "stream": "stdout",
       "text": [
        "\n",
        "Epoch: 12; Error: 186.467781263;"
       ]
      },
      {
       "output_type": "stream",
       "stream": "stdout",
       "text": [
        "\n",
        "Epoch: 14; Error: 183.414792882;"
       ]
      },
      {
       "output_type": "stream",
       "stream": "stdout",
       "text": [
        "\n",
        "Epoch: 16; Error: 180.644522543;"
       ]
      },
      {
       "output_type": "stream",
       "stream": "stdout",
       "text": [
        "\n",
        "Epoch: 18; Error: 179.948153752;"
       ]
      },
      {
       "output_type": "stream",
       "stream": "stdout",
       "text": [
        "\n",
        "Epoch: 20; Error: 178.4347148;"
       ]
      },
      {
       "output_type": "stream",
       "stream": "stdout",
       "text": [
        "\n",
        "The maximum number of train epochs is reached\n"
       ]
      }
     ],
     "prompt_number": 180
    },
    {
     "cell_type": "heading",
     "level": 3,
     "metadata": {},
     "source": [
      "4. Evaluate Model Results"
     ]
    },
    {
     "cell_type": "code",
     "collapsed": false,
     "input": [
      "plt.plot(np.array(err)/len(datain),label='No Age')\n",
      "plt.hold(True)\n",
      "plt.plot(np.array(err_age)/len(datain_age), label='Age')\n",
      "plt.legend()"
     ],
     "language": "python",
     "metadata": {},
     "outputs": [
      {
       "metadata": {},
       "output_type": "pyout",
       "prompt_number": 181,
       "text": [
        "<matplotlib.legend.Legend at 0x10a4d8790>"
       ]
      },
      {
       "metadata": {},
       "output_type": "display_data",
       "png": "[encoded data removed]",
       "text": [
        "<matplotlib.figure.Figure at 0x1072b2890>"
       ]
      }
     ],
     "prompt_number": 181
    },
    {
     "cell_type": "code",
     "collapsed": false,
     "input": [
      "# Print fraction of results correctly modeled\n",
      "trainsim = np.sign(net.sim(datain))\n",
      "correct = trainsim==dataout\n",
      "print \"Fraction correct (no age): \",np.sum(correct)/ np.float(len(correct)), len(correct)\n",
      "trainsim = np.sign(net_age.sim(datain_age))\n",
      "correct = trainsim==dataout_age\n",
      "print \"Fraction correct (w/ age): \",np.sum(correct)/ np.float(len(correct)), len(correct)"
     ],
     "language": "python",
     "metadata": {},
     "outputs": [
      {
       "output_type": "stream",
       "stream": "stdout",
       "text": [
        "Fraction correct (no age):  0.853107344633 177\n",
        "Fraction correct (w/ age): "
       ]
      },
      {
       "output_type": "stream",
       "stream": "stdout",
       "text": [
        " 0.831932773109 714\n"
       ]
      }
     ],
     "prompt_number": 182
    },
    {
     "cell_type": "heading",
     "level": 3,
     "metadata": {},
     "source": [
      "5. Run test data through networks"
     ]
    },
    {
     "cell_type": "code",
     "collapsed": false,
     "input": [
      "test = pd.read_csv(\"./data/titanic/test.csv\", index_col=\"PassengerId\")\n",
      "reload(NNF)"
     ],
     "language": "python",
     "metadata": {},
     "outputs": [
      {
       "metadata": {},
       "output_type": "pyout",
       "prompt_number": 183,
       "text": [
        "<module 'code.Neural_Net_Funcs' from 'code/Neural_Net_Funcs.pyc'>"
       ]
      }
     ],
     "prompt_number": 183
    },
    {
     "cell_type": "code",
     "collapsed": false,
     "input": [
      "datain_age,dataout_age,min_max_list_age,pid_age = NNF.make_input_output(test,Test=True)"
     ],
     "language": "python",
     "metadata": {},
     "outputs": [],
     "prompt_number": 184
    },
    {
     "cell_type": "code",
     "collapsed": false,
     "input": [
      "datain,dataout,min_max_list,pid = NNF.make_input_output(test,Test=True,Age=False)"
     ],
     "language": "python",
     "metadata": {},
     "outputs": [],
     "prompt_number": 185
    },
    {
     "cell_type": "code",
     "collapsed": false,
     "input": [
      "predict_age = np.sign(net_age.sim(datain_age))\n",
      "predict_noage = np.sign(net.sim(datain))"
     ],
     "language": "python",
     "metadata": {},
     "outputs": [],
     "prompt_number": 186
    },
    {
     "cell_type": "heading",
     "level": 3,
     "metadata": {},
     "source": [
      "6. Submit prediction to kaggle competition"
     ]
    },
    {
     "cell_type": "code",
     "collapsed": false,
     "input": [
      "predictions = np.concatenate([predict_age,predict_noage])\n",
      "predictions = np.where(predictions==1,predictions,0)\n",
      "passengerid = np.concatenate([pid_age,pid])\n",
      "dfout = pd.DataFrame(predictions,index=passengerid,columns=['Survived'])\n",
      "dfout.index.name = 'PassengerID'\n",
      "dfout = dfout.astype(int)\n",
      "dfout = dfout.sort()\n",
      "dfout.to_csv('./predictions/Neural_Network_Prediction.csv',sep=',')"
     ],
     "language": "python",
     "metadata": {},
     "outputs": [],
     "prompt_number": 187
    },
    {
     "cell_type": "heading",
     "level": 6,
     "metadata": {},
     "source": [
      "This submission scored a 0.78469, placing 1037 out of 2102 submissions. This is just better than the \"Gender, Price, and Class Based Model\" benchmark."
     ]
    }
   ],
   "metadata": {}
  }
 ]
}