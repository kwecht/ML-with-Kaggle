{
 "metadata": {
  "name": "",
  "signature": "sha256:9d3e92de58ce57933bcfe37d51e7436d2b3fdb4abac0b6820c2147a77c6b8895"
 },
 "nbformat": 3,
 "nbformat_minor": 0,
 "worksheets": [
  {
   "cells": [
    {
     "cell_type": "heading",
     "level": 1,
     "metadata": {},
     "source": [
      "Introduction"
     ]
    },
    {
     "cell_type": "markdown",
     "metadata": {},
     "source": [
      "This is the fourth installment of Applying Machine Learning to Kaggle Datasets, a series of ipython notebooks demonstrating the methods described in the Stanford Machine Learning Course. In each noteobok, I apply one method taught in the course to an open kaggle competition. \n",
      "\n",
      "In this notebook, I demonstrate support vector machines using the Titanic competition."
     ]
    },
    {
     "cell_type": "heading",
     "level": 1,
     "metadata": {},
     "source": [
      "Outline"
     ]
    },
    {
     "cell_type": "markdown",
     "metadata": {},
     "source": [
      "1. Import and examine the data\n",
      "2. Construct features for SVM\n",
      "3. Optimize model parameters by solving f*X=y\n",
      "4. Evaluate model results\n",
      "5. Submit results to the Kaggle competition"
     ]
    },
    {
     "cell_type": "heading",
     "level": 3,
     "metadata": {},
     "source": [
      "Import Necessary Modules"
     ]
    },
    {
     "cell_type": "code",
     "collapsed": false,
     "input": [
      "%matplotlib inline\n",
      "import numpy as np\n",
      "import pandas as pd\n",
      "import matplotlib.pyplot as plt\n",
      "import seaborn as sb\n",
      "#import code.SVM_Funcs as svm\n",
      "import sklearn.svm as skm"
     ],
     "language": "python",
     "metadata": {},
     "outputs": [],
     "prompt_number": 270
    },
    {
     "cell_type": "heading",
     "level": 3,
     "metadata": {},
     "source": [
      "1. Read Titanic Data"
     ]
    },
    {
     "cell_type": "code",
     "collapsed": false,
     "input": [
      "data = pd.read_csv(\"./data/titanic/train.csv\", index_col=\"PassengerId\")\n",
      "data.head()"
     ],
     "language": "python",
     "metadata": {},
     "outputs": [
      {
       "html": [
        "<div style=\"max-height:1000px;max-width:1500px;overflow:auto;\">\n",
        "<table border=\"1\" class=\"dataframe\">\n",
        "  <thead>\n",
        "    <tr style=\"text-align: right;\">\n",
        "      <th></th>\n",
        "      <th>Survived</th>\n",
        "      <th>Pclass</th>\n",
        "      <th>Name</th>\n",
        "      <th>Sex</th>\n",
        "      <th>Age</th>\n",
        "      <th>SibSp</th>\n",
        "      <th>Parch</th>\n",
        "      <th>Ticket</th>\n",
        "      <th>Fare</th>\n",
        "      <th>Cabin</th>\n",
        "      <th>Embarked</th>\n",
        "    </tr>\n",
        "    <tr>\n",
        "      <th>PassengerId</th>\n",
        "      <th></th>\n",
        "      <th></th>\n",
        "      <th></th>\n",
        "      <th></th>\n",
        "      <th></th>\n",
        "      <th></th>\n",
        "      <th></th>\n",
        "      <th></th>\n",
        "      <th></th>\n",
        "      <th></th>\n",
        "      <th></th>\n",
        "    </tr>\n",
        "  </thead>\n",
        "  <tbody>\n",
        "    <tr>\n",
        "      <th>1</th>\n",
        "      <td> 0</td>\n",
        "      <td> 3</td>\n",
        "      <td>                           Braund, Mr. Owen Harris</td>\n",
        "      <td>   male</td>\n",
        "      <td> 22</td>\n",
        "      <td> 1</td>\n",
        "      <td> 0</td>\n",
        "      <td>        A/5 21171</td>\n",
        "      <td>  7.2500</td>\n",
        "      <td>  NaN</td>\n",
        "      <td> S</td>\n",
        "    </tr>\n",
        "    <tr>\n",
        "      <th>2</th>\n",
        "      <td> 1</td>\n",
        "      <td> 1</td>\n",
        "      <td> Cumings, Mrs. John Bradley (Florence Briggs Th...</td>\n",
        "      <td> female</td>\n",
        "      <td> 38</td>\n",
        "      <td> 1</td>\n",
        "      <td> 0</td>\n",
        "      <td>         PC 17599</td>\n",
        "      <td> 71.2833</td>\n",
        "      <td>  C85</td>\n",
        "      <td> C</td>\n",
        "    </tr>\n",
        "    <tr>\n",
        "      <th>3</th>\n",
        "      <td> 1</td>\n",
        "      <td> 3</td>\n",
        "      <td>                            Heikkinen, Miss. Laina</td>\n",
        "      <td> female</td>\n",
        "      <td> 26</td>\n",
        "      <td> 0</td>\n",
        "      <td> 0</td>\n",
        "      <td> STON/O2. 3101282</td>\n",
        "      <td>  7.9250</td>\n",
        "      <td>  NaN</td>\n",
        "      <td> S</td>\n",
        "    </tr>\n",
        "    <tr>\n",
        "      <th>4</th>\n",
        "      <td> 1</td>\n",
        "      <td> 1</td>\n",
        "      <td>      Futrelle, Mrs. Jacques Heath (Lily May Peel)</td>\n",
        "      <td> female</td>\n",
        "      <td> 35</td>\n",
        "      <td> 1</td>\n",
        "      <td> 0</td>\n",
        "      <td>           113803</td>\n",
        "      <td> 53.1000</td>\n",
        "      <td> C123</td>\n",
        "      <td> S</td>\n",
        "    </tr>\n",
        "    <tr>\n",
        "      <th>5</th>\n",
        "      <td> 0</td>\n",
        "      <td> 3</td>\n",
        "      <td>                          Allen, Mr. William Henry</td>\n",
        "      <td>   male</td>\n",
        "      <td> 35</td>\n",
        "      <td> 0</td>\n",
        "      <td> 0</td>\n",
        "      <td>           373450</td>\n",
        "      <td>  8.0500</td>\n",
        "      <td>  NaN</td>\n",
        "      <td> S</td>\n",
        "    </tr>\n",
        "  </tbody>\n",
        "</table>\n",
        "</div>"
       ],
       "metadata": {},
       "output_type": "pyout",
       "prompt_number": 271,
       "text": [
        "             Survived  Pclass  \\\n",
        "PassengerId                     \n",
        "1                   0       3   \n",
        "2                   1       1   \n",
        "3                   1       3   \n",
        "4                   1       1   \n",
        "5                   0       3   \n",
        "\n",
        "                                                          Name     Sex  Age  \\\n",
        "PassengerId                                                                   \n",
        "1                                      Braund, Mr. Owen Harris    male   22   \n",
        "2            Cumings, Mrs. John Bradley (Florence Briggs Th...  female   38   \n",
        "3                                       Heikkinen, Miss. Laina  female   26   \n",
        "4                 Futrelle, Mrs. Jacques Heath (Lily May Peel)  female   35   \n",
        "5                                     Allen, Mr. William Henry    male   35   \n",
        "\n",
        "             SibSp  Parch            Ticket     Fare Cabin Embarked  \n",
        "PassengerId                                                          \n",
        "1                1      0         A/5 21171   7.2500   NaN        S  \n",
        "2                1      0          PC 17599  71.2833   C85        C  \n",
        "3                0      0  STON/O2. 3101282   7.9250   NaN        S  \n",
        "4                1      0            113803  53.1000  C123        S  \n",
        "5                0      0            373450   8.0500   NaN        S  "
       ]
      }
     ],
     "prompt_number": 271
    },
    {
     "cell_type": "heading",
     "level": 3,
     "metadata": {},
     "source": [
      "2. Transform Data into format for scikit-learn"
     ]
    },
    {
     "cell_type": "code",
     "collapsed": false,
     "input": [
      "def prepdata(data):\n",
      "    \"\"\"\n",
      "    Prepare data for use in scikit-learn SVM routines.\n",
      "\n",
      "    # Sklearn.svm.SVC is the function for support vector machine classicifaction\n",
      "    # results = svm.SVC(data,target)\n",
      "    #   datain: ndarray: nobs x nfeatures\n",
      "    #   target: ndarray: nobs,\n",
      "    \"\"\"\n",
      "\n",
      "    # Input data.\n",
      "    #     a. Gather numerical inputs, fill nan values to mean of that category\n",
      "    numcols = ['Age','Fare','Parch','SibSp']\n",
      "    datain = data[numcols].copy()\n",
      "    for col in datain.columns:\n",
      "        datain[col].fillna(value=datain[col].mean(),inplace=True)\n",
      "        \n",
      "    #     b. Trim outliers from numerical inputs\n",
      "    #datain['Age'][datain['Age']>70] = 70  # Cap age at 70\n",
      "    #datain['Fare'][datain['Fare']>100] = 100\n",
      "    #datain['Parch'][datain['Parch']>2] = 2\n",
      "    #datain['SibSp'][datain['SibSp']>4] = 4\n",
      "    \n",
      "    #     c. Gather categorical variables as dummy variables of len(# of categories)\n",
      "    catcols = ['Pclass','Sex','Cabin','Embarked','Name']\n",
      "    for col in catcols:\n",
      "    \n",
      "        # Make copy of categorical column to process\n",
      "        column = data[col].copy()\n",
      "\n",
      "        # Extract cabin level from Cabin number\n",
      "        if col=='Cabin':\n",
      "            column = pd.Series(['NaN' if val is np.nan else val[0] for val in column],index=data.index)\n",
      "            # Cabins T and G have very few occupants (1 and 4, respectively)\n",
      "            column[column.isin(['T','G'])] = 'NaN'\n",
      "\n",
      "        # Extract title from Name    \n",
      "        if col=='Name':\n",
      "            column = pd.Series([name.split('.')[0].split(' ')[-1] for name in column],index=data.index)\n",
      "            # Only include titles of those with more than 2% occurance in the training data\n",
      "            #titles = column.value_counts().keys()[column.value_counts().values>0.02*len(data)]\n",
      "            titles = ['Master','Mr','Mrs','Miss']  # manually enter so it works with test data\n",
      "            column[column.isin(titles)==False] = 'Other'\n",
      "\n",
      "        dummies = pd.get_dummies(column,prefix=col)\n",
      "        datain = datain.join(dummies)\n",
      "    \n",
      "    # Return datain and target to calling program\n",
      "    return datain\n",
      "\n",
      "datain = prepdata(data)\n",
      "target = data['Survived']\n",
      "\n",
      "# Linearly scale all non-categorical columns to range [-1,1]\n",
      "numcols = ['Age','Fare','Parch','SibSp']\n",
      "for col in numcols:\n",
      "    # Zero mean, unit variance\n",
      "    #datain[col] = (datain[col] - datain[col].mean()) / datain[col].std()\n",
      "    # Range [-1,1]\n",
      "    datain[col] = (datain[col]-datain[col].min())*2./(datain[col].max()-datain[col].min())-1.\n",
      "        "
     ],
     "language": "python",
     "metadata": {},
     "outputs": [],
     "prompt_number": 272
    },
    {
     "cell_type": "heading",
     "level": 3,
     "metadata": {},
     "source": [
      "3. Define function for cross validation"
     ]
    },
    {
     "cell_type": "code",
     "collapsed": false,
     "input": [
      "def crossvalidate(k,model,datain,target):\n",
      "    \"\"\"\n",
      "    Perform k-fold cross validation on the model trained\n",
      "    with subsets of the input data (datain) and the \n",
      "    output labels (target).\n",
      "    \n",
      "    Return the fraction of the test set correctly \n",
      "    predicted during the cross validation.\n",
      "    \"\"\"\n",
      "\n",
      "    # Dictionary to hold cross-validation results\n",
      "    validation = {'prediction':np.array([]),\n",
      "                  'target':np.array([])} \n",
      "    \n",
      "    # Loop over data set k times\n",
      "    if k>1:\n",
      "        for ii in range(k):\n",
      "    \n",
      "            # Split data into training and test data\n",
      "            indices  = datain.index[ii*len(datain)/k:(ii+1)*len(datain)/k]\n",
      "            testin   = datain[datain.index.isin(indices)]\n",
      "            trainin  = datain[~datain.index.isin(indices)]\n",
      "            testout  = target[datain.index.isin(indices)]\n",
      "            trainout = target[~datain.index.isin(indices)]\n",
      "\n",
      "            # Train model on the training data\n",
      "            results  = model.fit(trainin,trainout)\n",
      "            validation['prediction'] = np.append(validation['prediction'],results.predict(testin),0)\n",
      "            validation['target'] = np.append(validation['target'],testout,0)\n",
      "    else:\n",
      "        results = model.fit(datain,target)\n",
      "        validation['prediction'] = results.predict(datain)\n",
      "        validation['target'] = target\n",
      "    \n",
      "    return 1-sum((validation['prediction']-validation['target'])!=0)/float(len(datain))"
     ],
     "language": "python",
     "metadata": {},
     "outputs": [],
     "prompt_number": 273
    },
    {
     "cell_type": "heading",
     "level": 3,
     "metadata": {},
     "source": [
      "4. Perform Grid Search to optimize C and $\\gamma$"
     ]
    },
    {
     "cell_type": "heading",
     "level": 5,
     "metadata": {},
     "source": [
      "4a. Coarse grid search"
     ]
    },
    {
     "cell_type": "code",
     "collapsed": false,
     "input": [
      "# Perform k-fold cross validation\n",
      "k = 3\n",
      "\n",
      "# Define powers of C and gamma to test\n",
      "Cpow = np.linspace(-5,12,8)\n",
      "Gpow = np.linspace(-15,3,8)\n",
      "\n",
      "# Loop over each combination of C and gamma\n",
      "score = pd.DataFrame(index=Cpow,columns=[gp for gp in Gpow])\n",
      "score.index.name = 'Cvalues'\n",
      "for cp in Cpow:\n",
      "    #print \"C = {}\".format(cp)\n",
      "    for gp in Gpow:\n",
      "        #print r\"    $\\gamma = ${}\".format(gp)\n",
      "        model = skm.SVC(kernel='rbf',C=2**cp,gamma=2**gp)#,class_weight='auto')\n",
      "        score.loc[cp,gp] = crossvalidate(k,model,datain,target)"
     ],
     "language": "python",
     "metadata": {},
     "outputs": [],
     "prompt_number": 281
    },
    {
     "cell_type": "code",
     "collapsed": false,
     "input": [
      "# Visualize results of coarse grid search to refine grid\n",
      "C,G = np.meshgrid(Cpow,Gpow)\n",
      "CF = plt.contourf(C,G,score.T,\n",
      "                  levels=np.linspace(0.8,0.84,21),\n",
      "                  cmap=plt.cm.jet,vmin=0.78,vmax=0.84,extend='min')\n",
      "plt.colorbar(CF)\n",
      "plt.title('Results of Coarse Grid Search',fontsize=24)\n",
      "plt.ylabel(r'$log_2 \\gamma$',fontsize=18)\n",
      "plt.xlabel(r'$log_2 C$',fontsize=18)"
     ],
     "language": "python",
     "metadata": {},
     "outputs": [
      {
       "metadata": {},
       "output_type": "pyout",
       "prompt_number": 282,
       "text": [
        "<matplotlib.text.Text at 0x11c0d7250>"
       ]
      },
      {
       "metadata": {},
       "output_type": "display_data",
       "png": "[encoded data removed]",
       "text": [
        "<matplotlib.figure.Figure at 0x11bbac690>"
       ]
      }
     ],
     "prompt_number": 282
    },
    {
     "cell_type": "heading",
     "level": 5,
     "metadata": {},
     "source": [
      "4b. Refined grid search"
     ]
    },
    {
     "cell_type": "code",
     "collapsed": false,
     "input": [
      "# Set new values of C and gamma based on figure above\n",
      "Cpow = np.linspace(0,6,11)\n",
      "Gpow = np.linspace(-6,0,11)\n",
      "\n",
      "# Loop over each combination of C and gamma\n",
      "score = pd.DataFrame(index=Cpow,columns=[gp for gp in Gpow])\n",
      "score.index.name = 'Cvalues'\n",
      "for cp in Cpow:\n",
      "    #print \"C = {}\".format(cp)\n",
      "    for gp in Gpow:\n",
      "        #print r\"    $\\gamma = ${}\".format(gp)\n",
      "        model = skm.SVC(kernel='rbf',C=2**cp,gamma=2**gp)#,class_weight='auto')\n",
      "        score.loc[cp,gp] = crossvalidate(k,model,datain,target)"
     ],
     "language": "python",
     "metadata": {},
     "outputs": [],
     "prompt_number": 287
    },
    {
     "cell_type": "code",
     "collapsed": false,
     "input": [
      "# Visualize results of coarse grid search to refine grid\n",
      "C,G = np.meshgrid(Cpow,Gpow)\n",
      "CF = plt.contourf(C,G,score.T,\n",
      "                  levels=np.linspace(0.8,0.84,21),\n",
      "                  cmap=plt.cm.jet,vmin=0.78,vmax=0.84,extend='min')\n",
      "plt.colorbar(CF)\n",
      "plt.title('Results of Refined Grid Search',fontsize=24)\n",
      "plt.ylabel(r'$log_2 \\gamma$',fontsize=18)\n",
      "plt.xlabel(r'$log_2 C$',fontsize=18)"
     ],
     "language": "python",
     "metadata": {},
     "outputs": [
      {
       "metadata": {},
       "output_type": "pyout",
       "prompt_number": 288,
       "text": [
        "<matplotlib.text.Text at 0x11d93db90>"
       ]
      },
      {
       "metadata": {},
       "output_type": "display_data",
       "png": "[encoded data removed]",
       "text": [
        "<matplotlib.figure.Figure at 0x11d927190>"
       ]
      }
     ],
     "prompt_number": 288
    },
    {
     "cell_type": "heading",
     "level": 5,
     "metadata": {},
     "source": [
      "4c. Ultra-Refined Grid Search"
     ]
    },
    {
     "cell_type": "code",
     "collapsed": false,
     "input": [
      "# Set new values of C and gamma based on figure above\n",
      "Cpow = np.linspace(3,6,11)\n",
      "Gpow = np.linspace(-4,-1,11)\n",
      "\n",
      "# Loop over each combination of C and gamma\n",
      "score = pd.DataFrame(index=Cpow,columns=[gp for gp in Gpow])\n",
      "score.index.name = 'Cvalues'\n",
      "for cp in Cpow:\n",
      "    #print \"C = {}\".format(cp)\n",
      "    for gp in Gpow:\n",
      "        #print r\"    $\\gamma = ${}\".format(gp)\n",
      "        model = skm.SVC(kernel='rbf',C=2**cp,gamma=2**gp)#class_weight='auto')\n",
      "        score.loc[cp,gp] = crossvalidate(k,model,datain,target)"
     ],
     "language": "python",
     "metadata": {},
     "outputs": [],
     "prompt_number": 289
    },
    {
     "cell_type": "code",
     "collapsed": false,
     "input": [
      "# Visualize results of coarse grid search to refine grid\n",
      "C,G = np.meshgrid(Cpow,Gpow)\n",
      "CF = plt.contourf(C,G,score.T,\n",
      "                  levels=np.linspace(0.8,0.84,21),\n",
      "                  cmap=plt.cm.jet,vmin=0.78,vmax=0.84,extend='min')\n",
      "plt.colorbar(CF)\n",
      "plt.title('Results of Ultra-Refined Grid Search',fontsize=24)\n",
      "plt.ylabel(r'$log_2 \\gamma$',fontsize=18)\n",
      "plt.xlabel(r'$log_2 C$',fontsize=18)"
     ],
     "language": "python",
     "metadata": {},
     "outputs": [
      {
       "metadata": {},
       "output_type": "pyout",
       "prompt_number": 290,
       "text": [
        "<matplotlib.text.Text at 0x11db57ad0>"
       ]
      },
      {
       "metadata": {},
       "output_type": "display_data",
       "png": "[encoded data removed]",
       "text": [
        "<matplotlib.figure.Figure at 0x11db40fd0>"
       ]
      }
     ],
     "prompt_number": 290
    },
    {
     "cell_type": "heading",
     "level": 3,
     "metadata": {},
     "source": [
      "5. Train Final Model"
     ]
    },
    {
     "cell_type": "code",
     "collapsed": false,
     "input": [
      "# Select final C and gamma values\n",
      "C = 2**3.8    # with class_weight = 'auto'   C = 2**3.1\n",
      "g = 2**-1.5  # with class_weight = 'auto'   g = 2**-2.0\n",
      "\n",
      "# Train final model with all the training data\n",
      "model = skm.SVC(kernel='rbf',C=C,gamma=g)#,class_weight='auto')\n",
      "results = model.fit(datain,target)"
     ],
     "language": "python",
     "metadata": {},
     "outputs": [],
     "prompt_number": 291
    },
    {
     "cell_type": "heading",
     "level": 3,
     "metadata": {},
     "source": [
      "6. Submit predictions to Kaggle"
     ]
    },
    {
     "cell_type": "code",
     "collapsed": false,
     "input": [
      "# Read test data from file\n",
      "test = pd.read_csv(\"./data/titanic/test.csv\",index_col=\"PassengerId\")\n",
      "\n",
      "# Make \n",
      "testin = prepdata(test)\n",
      "\n",
      "# Linearly scale all non-categorical columns to range [-1,1],\n",
      "# using scaling from the training data.\n",
      "tempdata = prepdata(data)\n",
      "numcols = ['Age','Fare','Parch','SibSp']\n",
      "#tempdata = data[numcols].copy()\n",
      "for col in numcols:\n",
      "    tempdata[col].fillna(value=tempdata[col].mean(),inplace=True)\n",
      "    # Zero mean, unit variance\n",
      "    #testin[col] = (testin[col] - tempdata[col].mean()) / tempdata[col].std()\n",
      "    # Range [-1,1]\n",
      "    testin[col] = (testin[col]-tempdata[col].min())*2./(tempdata[col].max()-tempdata[col].min())-1.\n",
      "\n",
      "# Make predictions using the test data from Kaggle\n",
      "predictions = pd.DataFrame(results.predict(testin),index=testin.index,columns=['Survived'])\n",
      "predictions = predictions.astype(int)\n",
      "predictions.to_csv('./predictions/SVM_Prediction.csv',sep=',')\n",
      "\n",
      "print \"Score on Training Data = {}\".format(1-sum((results.predict(datain)-target)!=0)/float(len(datain)))"
     ],
     "language": "python",
     "metadata": {},
     "outputs": [
      {
       "output_type": "stream",
       "stream": "stdout",
       "text": [
        "Score on Training Data = 0.878787878788\n"
       ]
      }
     ],
     "prompt_number": 292
    },
    {
     "cell_type": "markdown",
     "metadata": {},
     "source": [
      "This results in a final score of 0.77990 on the public leaderboard."
     ]
    },
    {
     "cell_type": "code",
     "collapsed": false,
     "input": [],
     "language": "python",
     "metadata": {},
     "outputs": []
    }
   ],
   "metadata": {}
  }
 ]
}